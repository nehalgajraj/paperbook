{
 "cells": [
  {
   "cell_type": "markdown",
   "metadata": {},
   "source": [
    "For all purpose, we shall use openrouter, openai client structure"
   ]
  },
  {
   "cell_type": "code",
   "execution_count": 1,
   "metadata": {},
   "outputs": [],
   "source": [
    "import os\n",
    "os.environ[\"OPENROUTER_API_KEY\"] = \"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\""
   ]
  },
  {
   "cell_type": "code",
   "execution_count": 3,
   "metadata": {},
   "outputs": [
    {
     "name": "stdout",
     "output_type": "stream",
     "text": [
      "The meaning of life is a profound and ancient question that has been pondered by philosophers, theologians, scientists, and people from all walks of life for centuries. There is no single, universally accepted answer, as the meaning of life can be deeply personal and may vary based on an individual's beliefs, values, and experiences. Here are a few perspectives:\n",
      "\n",
      "1. Religious views: Many religions provide their followers with a sense of purpose, often centered around serving God, achieving salvation, or reaching enlightenment.\n",
      "\n",
      "2. Philosophical perspectives: Various philosophical schools of thought have proposed different ideas, such as the pursuit of happiness, the fulfillment of human potential, or the creation of meaning through individual choices and actions.\n",
      "\n",
      "3\n"
     ]
    }
   ],
   "source": [
    "from openai import OpenAI\n",
    "from os import getenv\n",
    "from openai import OpenAI\n",
    "from os import getenv\n",
    "\n",
    "client = OpenAI(\n",
    "    base_url=\"https://openrouter.ai/api/v1\",\n",
    "    api_key=getenv(\"OPENROUTER_API_KEY\"),\n",
    "  )\n",
    "\n",
    "messages = [\n",
    "  {\n",
    "    \"role\": \"system\",\n",
    "    \"content\": \"You are a helpful assistant.\"\n",
    "  },\n",
    "  {\n",
    "    \"role\": \"user\",\n",
    "    \"content\": \"What is the meaning of life?\"\n",
    "  }\n",
    "]\n",
    "\n",
    "def wordbox(messages):\n",
    "  \n",
    "  completion = client.chat.completions.create(\n",
    "    model=\"anthropic/claude-3-opus-20240229\",\n",
    "    messages=messages,\n",
    "    max_tokens=150,\n",
    "    temperature=0.7,\n",
    "    #stop=[\"\\n\"],\n",
    "    stream=False\n",
    "  )\n",
    "  return completion\n",
    "\n",
    "messages = [\n",
    "  {\n",
    "    \"role\": \"system\",\n",
    "    \"content\": \"You are a helpful assistant.\"\n",
    "  },\n",
    "  {\n",
    "    \"role\": \"user\",\n",
    "    \"content\": \"What is the meaning of life?\"\n",
    "  }\n",
    "]\n",
    "\n",
    "completion = wordbox(messages)\n",
    "print(completion.choices[0].message.content)\n",
    "\n"
   ]
  },
  {
   "cell_type": "markdown",
   "metadata": {},
   "source": [
    "Tool\n",
    "\n",
    "- name: The name of the tool.\n",
    "- description: A brief description of the tool.\n",
    "- parameters: The parameters required by the tool, specified as a list of dictionaries. Each dictionary contains the following keys:\n",
    "    - name: The name of the parameter.\n",
    "    - description: A brief description of the parameter.\n",
    "    - type: The data type of the parameter.\n"
   ]
  },
  {
   "cell_type": "code",
   "execution_count": 6,
   "metadata": {},
   "outputs": [
    {
     "name": "stdout",
     "output_type": "stream",
     "text": [
      "<tool_description>\n",
      "<tool_name>test</tool_name>\n",
      "<description>\n",
      "test\n",
      "</description>\n",
      "<parameters>\n",
      "<parameter>\n",
      "<name>test</name>\n",
      "<type>test</type>\n",
      "<description>test</description>\n",
      "</parameter>\n",
      "</parameters>\n",
      "</tool_description>\n"
     ]
    }
   ],
   "source": [
    "def toolreader(name, description, parameters):\n",
    "    constructed_prompt = (\n",
    "        \"<tool_description>\\n\"\n",
    "        f\"<tool_name>{name}</tool_name>\\n\"\n",
    "        \"<description>\\n\"\n",
    "        f\"{description}\\n\"\n",
    "        \"</description>\\n\"\n",
    "        \"<parameters>\\n\"\n",
    "        + \"\\n\".join(f\"<parameter>\\n<name>{parameter['name']}</name>\\n<type>{parameter['type']}</type>\\n<description>{parameter['description']}</description>\\n</parameter>\" for parameter in parameters) +\n",
    "        \"\\n</parameters>\\n\"\n",
    "        \"</tool_description>\"\n",
    "    )\n",
    "    return constructed_prompt\n"
   ]
  },
  {
   "cell_type": "code",
   "execution_count": 12,
   "metadata": {},
   "outputs": [
    {
     "name": "stdout",
     "output_type": "stream",
     "text": [
      "<tool_description>\n",
      "<tool_name>testool</tool_name>\n",
      "<description>\n",
      "This is a test tool\n",
      "</description>\n",
      "<parameters>\n",
      "<parameter>\n",
      "<name>input</name>\n",
      "<type>string</type>\n",
      "<description>This is the input</description>\n",
      "</parameter>\n",
      "</parameters>\n",
      "</tool_description>\n"
     ]
    }
   ],
   "source": [
    "testool = toolreader(\"testool\", \"This is a test tool\", [{\"name\": \"input\", \"type\": \"string\", \"description\": \"This is the input\"}])\n",
    "print(testool)"
   ]
  },
  {
   "cell_type": "code",
   "execution_count": 15,
   "metadata": {},
   "outputs": [
    {
     "ename": "TypeError",
     "evalue": "'str' object is not callable",
     "output_type": "error",
     "traceback": [
      "\u001b[1;31m---------------------------------------------------------------------------\u001b[0m",
      "\u001b[1;31mTypeError\u001b[0m                                 Traceback (most recent call last)",
      "Cell \u001b[1;32mIn[15], line 26\u001b[0m\n\u001b[0;32m      4\u001b[0m     tool_use_system_prompt \u001b[38;5;241m=\u001b[39m (\n\u001b[0;32m      5\u001b[0m         \u001b[38;5;124m\"\u001b[39m\u001b[38;5;132;01m{system_message}\u001b[39;00m\u001b[38;5;130;01m\\n\u001b[39;00m\u001b[38;5;124m\"\u001b[39m\n\u001b[0;32m      6\u001b[0m         \u001b[38;5;124m\"\u001b[39m\u001b[38;5;124mIn this environment you have access to a set of tools you can use to answer the user\u001b[39m\u001b[38;5;124m'\u001b[39m\u001b[38;5;124ms question.\u001b[39m\u001b[38;5;130;01m\\n\u001b[39;00m\u001b[38;5;124m\"\u001b[39m\n\u001b[1;32m   (...)\u001b[0m\n\u001b[0;32m     22\u001b[0m         \u001b[38;5;124m\"\u001b[39m\u001b[38;5;130;01m\\n\u001b[39;00m\u001b[38;5;124m</tools>\u001b[39m\u001b[38;5;124m\"\u001b[39m\n\u001b[0;32m     23\u001b[0m     )\n\u001b[0;32m     24\u001b[0m     \u001b[38;5;28;01mreturn\u001b[39;00m tool_use_system_prompt\n\u001b[1;32m---> 26\u001b[0m \u001b[38;5;28mprint\u001b[39m(\u001b[43msystem\u001b[49m\u001b[43m(\u001b[49m\u001b[43m[\u001b[49m\u001b[43mtestool\u001b[49m\u001b[43m]\u001b[49m\u001b[43m)\u001b[49m)\n",
      "\u001b[1;31mTypeError\u001b[0m: 'str' object is not callable"
     ]
    }
   ],
   "source": [
    "system = \"you are bad ass agent\"\n",
    "\n",
    "def agent(system,tools):\n",
    "    tool_use_system_prompt = (\n",
    "        \"{system}\\n\"\n",
    "        \"In this environment you have access to a set of tools you can use to answer the user's question.\\n\"\n",
    "        \"\\n\"\n",
    "        \"You may call them like this:\\n\"\n",
    "        \"<function_calls>\\n\"\n",
    "        \"<invoke>\\n\"\n",
    "        \"<tool_name>$TOOL_NAME</tool_name>\\n\"\n",
    "        \"<parameters>\\n\"\n",
    "        \"<$PARAMETER_NAME>$PARAMETER_VALUE</$PARAMETER_NAME>\\n\"\n",
    "        \"...\\n\"\n",
    "        \"</parameters>\\n\"\n",
    "        \"</invoke>\\n\"\n",
    "        \"</function_calls>\\n\"\n",
    "        \"\\n\"\n",
    "        \"Here are the tools available:\\n\"\n",
    "        \"<tools>\\n\"\n",
    "        + '\\n'.join([tool for tool in tools]) +\n",
    "        \"\\n</tools>\"\n",
    "    )\n",
    "    return tool_use_system_prompt\n",
    "\n",
    "print(system([testool]))"
   ]
  },
  {
   "cell_type": "code",
   "execution_count": null,
   "metadata": {},
   "outputs": [],
   "source": [
    "answer = 1984135 * 9343116\n",
    "print(f\"{answer:,}\")"
   ]
  },
  {
   "cell_type": "code",
   "execution_count": null,
   "metadata": {},
   "outputs": [],
   "source": [
    "def do_pairwise_arithmetic(num1, num2, operation):\n",
    "    if operation == '+':\n",
    "        return num1 + num2\n",
    "    elif operation == \"-\":\n",
    "        return num1 - num2\n",
    "    elif operation == \"*\":\n",
    "        return num1 * num2\n",
    "    elif operation == \"/\":\n",
    "        return num1 / num2\n",
    "    else:\n",
    "        return \"Error: Operation not supported.\""
   ]
  },
  {
   "cell_type": "code",
   "execution_count": null,
   "metadata": {},
   "outputs": [],
   "source": [
    "def construct_format_tool_for_claude_prompt(name, description, parameters):\n",
    "    constructed_prompt = (\n",
    "        \"<tool_description>\\n\"\n",
    "        f\"<tool_name>{name}</tool_name>\\n\"\n",
    "        \"<description>\\n\"\n",
    "        f\"{description}\\n\"\n",
    "        \"</description>\\n\"\n",
    "        \"<parameters>\\n\"\n",
    "        f\"{construct_format_parameters_prompt(parameters)}\\n\"\n",
    "        \"</parameters>\\n\"\n",
    "        \"</tool_description>\"\n",
    "    )\n",
    "    return constructed_prompt\n",
    "\n",
    "\n",
    "tool_name = \"calculator\"\n",
    "tool_description = \"\"\"Calculator function for doing basic arithmetic. \n",
    "Supports addition, subtraction, multiplication\"\"\"\n",
    "\n",
    "\n",
    "def construct_format_parameters_prompt(parameters):\n",
    "    constructed_prompt = \"\\n\".join(f\"<parameter>\\n<name>{parameter['name']}</name>\\n<type>{parameter['type']}</type>\\n<description>{parameter['description']}</description>\\n</parameter>\" for parameter in parameters)\n",
    "\n",
    "    return constructed_prompt\n",
    "\n",
    "parameters = [\n",
    "    {\n",
    "        \"name\": \"first_operand\",\n",
    "        \"type\": \"int\",\n",
    "        \"description\": \"First operand (before the operator)\"\n",
    "    },\n",
    "    {\n",
    "        \"name\": \"second_operand\",\n",
    "        \"type\": \"int\",\n",
    "        \"description\": \"Second operand (after the operator)\"\n",
    "    },\n",
    "    {\n",
    "        \"name\": \"operator\",\n",
    "        \"type\": \"str\",\n",
    "        \"description\": \"The operation to perform. Must be either +, -, *, or /\"\n",
    "    }\n",
    "]\n",
    "tool = construct_format_tool_for_claude_prompt(tool_name, tool_description, parameters)\n",
    "print(tool)"
   ]
  },
  {
   "cell_type": "code",
   "execution_count": null,
   "metadata": {},
   "outputs": [],
   "source": [
    "def construct_tool_use_system_prompt(tools):\n",
    "    tool_use_system_prompt = (\n",
    "        \"In this environment you have access to a set of tools you can use to answer the user's question.\\n\"\n",
    "        \"\\n\"\n",
    "        \"You may call them like this:\\n\"\n",
    "        \"<function_calls>\\n\"\n",
    "        \"<invoke>\\n\"\n",
    "        \"<tool_name>$TOOL_NAME</tool_name>\\n\"\n",
    "        \"<parameters>\\n\"\n",
    "        \"<$PARAMETER_NAME>$PARAMETER_VALUE</$PARAMETER_NAME>\\n\"\n",
    "        \"...\\n\"\n",
    "        \"</parameters>\\n\"\n",
    "        \"</invoke>\\n\"\n",
    "        \"</function_calls>\\n\"\n",
    "        \"\\n\"\n",
    "        \"Here are the tools available:\\n\"\n",
    "        \"<tools>\\n\"\n",
    "        + '\\n'.join([tool for tool in tools]) +\n",
    "        \"\\n</tools>\"\n",
    "    )\n",
    "    return tool_use_system_prompt\n",
    "\n",
    "system_prompt = construct_tool_use_system_prompt([tool])\n",
    "print(system_prompt)\n"
   ]
  },
  {
   "cell_type": "code",
   "execution_count": null,
   "metadata": {},
   "outputs": [],
   "source": [
    "multiplication_message = {\n",
    "    \"role\": \"user\", \n",
    "    \"content\": \"Multiply 1,984,135 by 9,343,116\"\n",
    "}\n",
    "\n",
    "system_mesage = {'role': 'system', 'content': system_prompt}\n",
    "\n",
    "message = [system_mesage, multiplication_message]\n",
    "print(message)"
   ]
  },
  {
   "cell_type": "code",
   "execution_count": null,
   "metadata": {},
   "outputs": [],
   "source": [
    "function_calling_message = client.chat.completions.create(\n",
    "  model=\"anthropic/claude-3-opus-20240229\",\n",
    "  stream=False,  # this time, we set stream=True,\n",
    "\n",
    "  messages=message,\n",
    "  stop=[\"\\n\\nHuman:\", \"\\n\\nAssistant\", \"</function_calls>\"],\n",
    ")\n",
    "\n",
    "word = \"\"\n",
    "for chunk in function_calling_message:\n",
    "    print(chunk.choices[0].delta.content)\n",
    "    # word += chunk.choice[0].message.content\n",
    "    # print(word)\n"
   ]
  },
  {
   "cell_type": "code",
   "execution_count": null,
   "metadata": {},
   "outputs": [],
   "source": []
  }
 ],
 "metadata": {
  "kernelspec": {
   "display_name": "Python 3",
   "language": "python",
   "name": "python3"
  },
  "language_info": {
   "codemirror_mode": {
    "name": "ipython",
    "version": 3
   },
   "file_extension": ".py",
   "mimetype": "text/x-python",
   "name": "python",
   "nbconvert_exporter": "python",
   "pygments_lexer": "ipython3",
   "version": "3.10.11"
  }
 },
 "nbformat": 4,
 "nbformat_minor": 2
}
