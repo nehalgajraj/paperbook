{
 "cells": [
  {
   "cell_type": "code",
   "execution_count": 1,
   "metadata": {},
   "outputs": [
    {
     "name": "stdout",
     "output_type": "stream",
     "text": [
      "Requirement already satisfied: anthropic in c:\\users\\nehal\\appdata\\local\\packages\\pythonsoftwarefoundation.python.3.10_qbz5n2kfra8p0\\localcache\\local-packages\\python310\\site-packages (0.19.1)\n",
      "Requirement already satisfied: anyio<5,>=3.5.0 in c:\\users\\nehal\\appdata\\local\\packages\\pythonsoftwarefoundation.python.3.10_qbz5n2kfra8p0\\localcache\\local-packages\\python310\\site-packages (from anthropic) (3.6.2)\n",
      "Requirement already satisfied: distro<2,>=1.7.0 in c:\\users\\nehal\\appdata\\local\\packages\\pythonsoftwarefoundation.python.3.10_qbz5n2kfra8p0\\localcache\\local-packages\\python310\\site-packages (from anthropic) (1.9.0)\n",
      "Requirement already satisfied: httpx<1,>=0.23.0 in c:\\users\\nehal\\appdata\\local\\packages\\pythonsoftwarefoundation.python.3.10_qbz5n2kfra8p0\\localcache\\local-packages\\python310\\site-packages (from anthropic) (0.23.3)\n",
      "Requirement already satisfied: pydantic<3,>=1.9.0 in c:\\users\\nehal\\appdata\\local\\packages\\pythonsoftwarefoundation.python.3.10_qbz5n2kfra8p0\\localcache\\local-packages\\python310\\site-packages (from anthropic) (1.10.6)\n",
      "Requirement already satisfied: sniffio in c:\\users\\nehal\\appdata\\local\\packages\\pythonsoftwarefoundation.python.3.10_qbz5n2kfra8p0\\localcache\\local-packages\\python310\\site-packages (from anthropic) (1.2.0)\n",
      "Requirement already satisfied: tokenizers>=0.13.0 in c:\\users\\nehal\\appdata\\local\\packages\\pythonsoftwarefoundation.python.3.10_qbz5n2kfra8p0\\localcache\\local-packages\\python310\\site-packages (from anthropic) (0.13.2)\n",
      "Requirement already satisfied: typing-extensions<5,>=4.7 in c:\\users\\nehal\\appdata\\local\\packages\\pythonsoftwarefoundation.python.3.10_qbz5n2kfra8p0\\localcache\\local-packages\\python310\\site-packages (from anthropic) (4.9.0)\n",
      "Requirement already satisfied: idna>=2.8 in c:\\users\\nehal\\appdata\\local\\packages\\pythonsoftwarefoundation.python.3.10_qbz5n2kfra8p0\\localcache\\local-packages\\python310\\site-packages (from anyio<5,>=3.5.0->anthropic) (3.3)\n",
      "Requirement already satisfied: certifi in c:\\users\\nehal\\appdata\\local\\packages\\pythonsoftwarefoundation.python.3.10_qbz5n2kfra8p0\\localcache\\local-packages\\python310\\site-packages (from httpx<1,>=0.23.0->anthropic) (2023.5.7)\n",
      "Requirement already satisfied: httpcore<0.17.0,>=0.15.0 in c:\\users\\nehal\\appdata\\local\\packages\\pythonsoftwarefoundation.python.3.10_qbz5n2kfra8p0\\localcache\\local-packages\\python310\\site-packages (from httpx<1,>=0.23.0->anthropic) (0.16.3)\n",
      "Requirement already satisfied: rfc3986<2,>=1.3 in c:\\users\\nehal\\appdata\\local\\packages\\pythonsoftwarefoundation.python.3.10_qbz5n2kfra8p0\\localcache\\local-packages\\python310\\site-packages (from rfc3986[idna2008]<2,>=1.3->httpx<1,>=0.23.0->anthropic) (1.5.0)\n",
      "Requirement already satisfied: h11<0.15,>=0.13 in c:\\users\\nehal\\appdata\\local\\packages\\pythonsoftwarefoundation.python.3.10_qbz5n2kfra8p0\\localcache\\local-packages\\python310\\site-packages (from httpcore<0.17.0,>=0.15.0->httpx<1,>=0.23.0->anthropic) (0.13.0)\n",
      "Note: you may need to restart the kernel to use updated packages.\n"
     ]
    },
    {
     "name": "stderr",
     "output_type": "stream",
     "text": [
      "WARNING: Ignoring invalid distribution -rotobuf (c:\\users\\nehal\\appdata\\local\\packages\\pythonsoftwarefoundation.python.3.10_qbz5n2kfra8p0\\localcache\\local-packages\\python310\\site-packages)\n",
      "WARNING: Ignoring invalid distribution -rotobuf (c:\\users\\nehal\\appdata\\local\\packages\\pythonsoftwarefoundation.python.3.10_qbz5n2kfra8p0\\localcache\\local-packages\\python310\\site-packages)\n"
     ]
    }
   ],
   "source": [
    "pip install anthropic --upgrade"
   ]
  },
  {
   "cell_type": "code",
   "execution_count": 2,
   "metadata": {},
   "outputs": [],
   "source": [
    "from anthropic import Anthropic\n",
    "import re\n",
    "\n",
    "client = Anthropic(\n",
    "    api_key=\"\",\n",
    ")\n",
    "MODEL_NAME = \"claude-3-opus-20240229\"\n"
   ]
  },
  {
   "cell_type": "code",
   "execution_count": 3,
   "metadata": {},
   "outputs": [],
   "source": [
    "def toolreader(name, description, parameters):\n",
    "    constructed_prompt = (\n",
    "        \"<tool_description>\\n\"\n",
    "        f\"<tool_name>{name}</tool_name>\\n\"\n",
    "        \"<description>\\n\"\n",
    "        f\"{description}\\n\"\n",
    "        \"</description>\\n\"\n",
    "        \"<parameters>\\n\"\n",
    "        + \"\\n\".join(f\"<parameter>\\n<name>{parameter['name']}</name>\\n<type>{parameter['type']}</type>\\n<description>{parameter['description']}</description>\\n</parameter>\" for parameter in parameters) +\n",
    "        \"\\n</parameters>\\n\"\n",
    "        \"</tool_description>\"\n",
    "    )\n",
    "    return constructed_prompt\n",
    "\n",
    "\n",
    "def agent(system, tools):\n",
    "    agentsystemplustools = (\n",
    "        system +\n",
    "        \"\\n\\n\"\n",
    "        \"In this environment you have access to a set of tools you can use to answer the user's question.\\n\"\n",
    "        \"\\n\"\n",
    "        \"You may call them like this:\\n\"\n",
    "        \"<function_calls>\\n\"\n",
    "        \"<invoke>\\n\"\n",
    "        \"<tool_name>$TOOL_NAME</tool_name>\\n\"\n",
    "        \"<parameters>\\n\"\n",
    "        \"<$PARAMETER_NAME>$PARAMETER_VALUE</$PARAMETER_NAME>\\n\"\n",
    "        \"...\\n\"\n",
    "        \"</parameters>\\n\"\n",
    "        \"</invoke>\\n\"\n",
    "        \"</function_calls>\\n\"\n",
    "        \"\\n\"\n",
    "        \"Here are the tools available:\\n\"\n",
    "        \"<tools>\\n\"\n",
    "        + '\\n'.join([tool for tool in tools]) +\n",
    "        \"\\n</tools>\"\n",
    "    )\n",
    "    return agentsystemplustools\n",
    "\n",
    "def wordboxprocess(agent,message):\n",
    "    messages = [\n",
    "      {\n",
    "        \"role\": \"user\",\n",
    "        \"content\": message\n",
    "      }\n",
    "    ]\n",
    "    completion = client.messages.create(\n",
    "      model=MODEL_NAME,\n",
    "      max_tokens=1024,\n",
    "      messages=messages,\n",
    "      system=agent,\n",
    "      stop_sequences=[\"\\n\\nHuman:\", \"\\n\\nAssistant\", \"</function_calls>\"]\n",
    "    ).content[0].text\n",
    "\n",
    "    return completion\n"
   ]
  },
  {
   "cell_type": "code",
   "execution_count": 4,
   "metadata": {},
   "outputs": [],
   "source": [
    "tool_name = \"calculator\"\n",
    "tool_description = \"\"\"Calculator function for doing basic arithmetic. \n",
    "Supports addition, subtraction, multiplication\"\"\"\n",
    "parameters = [\n",
    "    {\n",
    "        \"name\": \"first_operand\",\n",
    "        \"type\": \"int\",\n",
    "        \"description\": \"First operand (before the operator)\"\n",
    "    },\n",
    "    {\n",
    "        \"name\": \"second_operand\",\n",
    "        \"type\": \"int\",\n",
    "        \"description\": \"Second operand (after the operator)\"\n",
    "    },\n",
    "    {\n",
    "        \"name\": \"operator\",\n",
    "        \"type\": \"str\",\n",
    "        \"description\": \"The operation to perform. Must be either +, -, *, or /\"\n",
    "    }\n",
    "]\n",
    "\n",
    "\n",
    "\n",
    "system = \"you are bad ass agent\"\n",
    "\n",
    "multiplication_message = {\n",
    "    \"role\": \"user\", \n",
    "    \"content\": \"Multiply 1,984,135 by 9,343,116\"\n",
    "}\n",
    "\n",
    "xmas = \"Multiply 1,984,135 by 9,343,116\""
   ]
  },
  {
   "cell_type": "code",
   "execution_count": 5,
   "metadata": {},
   "outputs": [
    {
     "ename": "ModuleNotFoundError",
     "evalue": "No module named 'tools'",
     "output_type": "error",
     "traceback": [
      "\u001b[1;31m---------------------------------------------------------------------------\u001b[0m",
      "\u001b[1;31mModuleNotFoundError\u001b[0m                       Traceback (most recent call last)",
      "Cell \u001b[1;32mIn[5], line 3\u001b[0m\n\u001b[0;32m      1\u001b[0m tool1 \u001b[38;5;241m=\u001b[39m toolreader(tool_name, tool_description, parameters)\n\u001b[0;32m      2\u001b[0m agent1 \u001b[38;5;241m=\u001b[39m agent(system,[tool1])\n\u001b[1;32m----> 3\u001b[0m \u001b[38;5;28;01mfrom\u001b[39;00m \u001b[38;5;21;01mtools\u001b[39;00m\u001b[38;5;21;01m.\u001b[39;00m\u001b[38;5;21;01mtuesday\u001b[39;00m \u001b[38;5;28;01mimport\u001b[39;00m Tool\n\u001b[0;32m      5\u001b[0m agent_uid\u001b[38;5;241m=\u001b[39m\u001b[38;5;124m'\u001b[39m\u001b[38;5;124magent_k\u001b[39m\u001b[38;5;124m'\u001b[39m\n\u001b[0;32m      6\u001b[0m tool \u001b[38;5;241m=\u001b[39m Tool(agent_uid)\n",
      "\u001b[1;31mModuleNotFoundError\u001b[0m: No module named 'tools'"
     ]
    }
   ],
   "source": [
    "tool1 = toolreader(tool_name, tool_description, parameters)\n",
    "agent1 = agent(system,[tool1])\n",
    "from tools.tuesday import Tool\n",
    "\n",
    "agent_uid='agent_k'\n",
    "tool = Tool(agent_uid)\n",
    "resultC = wordboxprocess(agent1,xmas)\n",
    "print(resultC)"
   ]
  },
  {
   "cell_type": "code",
   "execution_count": null,
   "metadata": {},
   "outputs": [],
   "source": [
    "def do_pairwise_arithmetic(num1, num2, operation):\n",
    "    if operation == '+':\n",
    "        return num1 + num2\n",
    "    elif operation == \"-\":\n",
    "        return num1 - num2\n",
    "    elif operation == \"*\":\n",
    "        return num1 * num2\n",
    "    elif operation == \"/\":\n",
    "        return num1 / num2\n",
    "    else:\n",
    "        return \"Error: Operation not supported.\""
   ]
  },
  {
   "cell_type": "code",
   "execution_count": null,
   "metadata": {},
   "outputs": [],
   "source": [
    "def extract_between_tags(tag: str, string: str, strip: bool = False) -> list[str]:\n",
    "    ext_list = re.findall(f\"<{tag}>(.+?)</{tag}>\", string, re.DOTALL)\n",
    "    if strip:\n",
    "        ext_list = [e.strip() for e in ext_list]\n",
    "    return ext_list\n",
    "\n",
    "\n",
    "first_operand = int(extract_between_tags(\"first_operand\", resultC)[0])\n",
    "second_operand = int(extract_between_tags(\"second_operand\", resultC)[0])\n",
    "operator = extract_between_tags(\"operator\", resultC)[0]\n",
    "\n",
    "result = do_pairwise_arithmetic(first_operand, second_operand, operator)\n",
    "print(f\"{result:,}\")"
   ]
  },
  {
   "cell_type": "code",
   "execution_count": null,
   "metadata": {},
   "outputs": [],
   "source": [
    "def resultoutputprocp(results: list[dict]):\n",
    "    f_results = [{\n",
    "        'tool_name': 'do_pairwise_arithmetic',\n",
    "        'tool_result': result\n",
    "    }]\n",
    "    \n",
    "    constructed_prompt = (\n",
    "        \"<function_results>\\n\"\n",
    "        + '\\n'.join(\n",
    "            f\"<result>\\n<tool_name>{res['tool_name']}</tool_name>\\n<stdout>\\n{res['tool_result']}\\n</stdout>\\n</result>\" \n",
    "            for res in f_results\n",
    "        ) + \"\\n</function_results>\"\n",
    "    )\n",
    "    \n",
    "    return constructed_prompt\n",
    "\n",
    "\n",
    "\n",
    "function_results = resultoutputprocp(result)\n",
    "print(function_results)\n"
   ]
  },
  {
   "cell_type": "code",
   "execution_count": null,
   "metadata": {},
   "outputs": [],
   "source": [
    "partial_assistant_message = resultC + \"</function_calls>\" + function_results\n",
    "final_message = client.messages.create(\n",
    "    model=MODEL_NAME,\n",
    "    max_tokens=2000,\n",
    "    messages=[\n",
    "        multiplication_message,\n",
    "        {\n",
    "            \"role\": \"assistant\",\n",
    "            \"content\": partial_assistant_message\n",
    "        }\n",
    "    ],\n",
    "    system=agent1,\n",
    ").content[0].text\n",
    "print(partial_assistant_message + final_message)"
   ]
  }
 ],
 "metadata": {
  "kernelspec": {
   "display_name": "Python 3",
   "language": "python",
   "name": "python3"
  },
  "language_info": {
   "codemirror_mode": {
    "name": "ipython",
    "version": 3
   },
   "file_extension": ".py",
   "mimetype": "text/x-python",
   "name": "python",
   "nbconvert_exporter": "python",
   "pygments_lexer": "ipython3",
   "version": "3.10.11"
  }
 },
 "nbformat": 4,
 "nbformat_minor": 2
}
