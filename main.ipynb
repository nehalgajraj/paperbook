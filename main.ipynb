{
 "cells": [
  {
   "cell_type": "code",
   "execution_count": 1,
   "metadata": {},
   "outputs": [],
   "source": [
    "from tools.tuesday import Tool\n",
    "from agent.monday import AnthropicModel\n",
    "import os\n",
    "\n",
    "os.environ['ANTHROPIC_API_KEY'] = 'YOUR_API_KEY'\n",
    "\n",
    "# Set the model name and the agent's UID\n",
    "MODEL_NAME = \"claude-3-opus-20240229\"\n",
    "agent_uid='agent_k'\n",
    "\n",
    "# Create a new tool\n",
    "# each agent can only use the predefined toolset (look into @tools/tuesday)\n",
    "tool = Tool(agent_uid)\n",
    "\n",
    "\n",
    "# Create a new agent\n",
    "agent = AnthropicModel(MODEL_NAME, toolSet=tool)\n",
    "agent.build_agent()\n",
    "\n"
   ]
  },
  {
   "cell_type": "code",
   "execution_count": null,
   "metadata": {},
   "outputs": [],
   "source": [
    "# Ask the agent a question\n",
    "message = \"hello , what is 12*34\"\n",
    "\n",
    "print(agent.wordboxprocess(message))"
   ]
  },
  {
   "cell_type": "code",
   "execution_count": null,
   "metadata": {},
   "outputs": [],
   "source": [
    "# Stream\n",
    "for output in agent.wordboxprocessstream(message):\n",
    "    print(output)\n"
   ]
  }
 ],
 "metadata": {
  "kernelspec": {
   "display_name": "Python 3",
   "language": "python",
   "name": "python3"
  },
  "language_info": {
   "codemirror_mode": {
    "name": "ipython",
    "version": 3
   },
   "file_extension": ".py",
   "mimetype": "text/x-python",
   "name": "python",
   "nbconvert_exporter": "python",
   "pygments_lexer": "ipython3",
   "version": "3.10.11"
  }
 },
 "nbformat": 4,
 "nbformat_minor": 2
}
